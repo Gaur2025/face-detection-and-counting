{
 "cells": [
  {
   "cell_type": "code",
   "execution_count": 1,
   "id": "a30d7e27",
   "metadata": {},
   "outputs": [],
   "source": [
    "import numpy as np\n",
    "import cv2\n"
   ]
  },
  {
   "cell_type": "code",
   "execution_count": 2,
   "id": "107ab8d8",
   "metadata": {},
   "outputs": [],
   "source": [
    "# We point OpenCV's Cascade classifier function to where our classifier (XML file format) is stored.\n",
    "face_classifier = cv2.CascadeClassifier('Haarcascades/haarcascade_frontalface_default.xml')\n",
    "eye_classifier = cv2.CascadeClassifier('Haarcascades/haarcascade_eye.xml')"
   ]
  },
  {
   "cell_type": "code",
   "execution_count": 3,
   "id": "e03ce447",
   "metadata": {},
   "outputs": [],
   "source": [
    "# Loading the image then converting it to grayscale.\n",
    "image = cv2.imread('image_examples/trump.jpg')\n",
    "gray = cv2.cvtColor(image, cv2.COLOR_BGR2GRAY)  # Convering image to grayscale.\n"
   ]
  },
  {
   "cell_type": "code",
   "execution_count": 4,
   "id": "a45f9d62",
   "metadata": {},
   "outputs": [],
   "source": [
    "# Our classifier returns the ROI of the detected face as tuple.\n",
    "# It stores the top left coordinate and the bottom right coordinates. \n",
    "faces = face_classifier.detectMultiScale(gray, 1.3, 5)  # detectMultiScale detects face in the image."
   ]
  },
  {
   "cell_type": "code",
   "execution_count": 5,
   "id": "77ff8bd5",
   "metadata": {},
   "outputs": [
    {
     "name": "stderr",
     "output_type": "stream",
     "text": [
      "<>:2: SyntaxWarning: \"is\" with a literal. Did you mean \"==\"?\n",
      "<>:2: SyntaxWarning: \"is\" with a literal. Did you mean \"==\"?\n",
      "<ipython-input-5-1b412ea60cfe>:2: SyntaxWarning: \"is\" with a literal. Did you mean \"==\"?\n",
      "  if faces is ():\n"
     ]
    }
   ],
   "source": [
    "# When no face is detected. face_classifier returns an empty tuple.\n",
    "if faces is ():\n",
    "    print(f\"No faces found.\")\n",
    "    "
   ]
  },
  {
   "cell_type": "code",
   "execution_count": 6,
   "id": "eb6092a1",
   "metadata": {},
   "outputs": [],
   "source": [
    "# We iterate through our faces array and draw a rectangle over each face in faces.\n",
    "for (x, y, w, h) in faces:  # x = x-coordinate, y = y-coordinate, w = width of face, h = height of face\n",
    "    cv2.rectangle(image, (x, y), (x + w, y + h), (127, 0, 255), 2)   # Drawing a rectangle on the face.\n",
    "    cv2.imshow(\"Face Detection\", image)\n",
    "    cv2.waitKey(0)\n",
    "    # Now to detect the eyes, we need to crop the face.\n",
    "    roi_gray = gray[y:y+h, x:x+w]\n",
    "    roi_color = image[y:y+h, x:x+w] \n",
    "    eyes = eye_classifier.detectMultiScale(roi_gray)  # Detecting eyes in the cropped area.\n",
    "    # Drawing rectangles on the eyes.\n",
    "    for (ex, ey, ew, eh) in eyes:\n",
    "        cv2.rectangle(roi_color, (ex, ey), (ex + ew, ey + eh), (255, 255, 0), 2)\n",
    "        cv2.imshow('img', image)\n",
    "        cv2.waitKey()\n",
    "        \n",
    "cv2.destroyAllWindows()   # This is very necessary, otherwise system would hang."
   ]
  },
  {
   "cell_type": "markdown",
   "id": "9929576b",
   "metadata": {},
   "source": [
    "## Face and Eye detection using videos (webcam)"
   ]
  },
  {
   "cell_type": "code",
   "execution_count": 7,
   "id": "dc72739c",
   "metadata": {},
   "outputs": [],
   "source": [
    "import numpy as np\n",
    "import cv2"
   ]
  },
  {
   "cell_type": "code",
   "execution_count": 8,
   "id": "efdc7f8d",
   "metadata": {},
   "outputs": [],
   "source": [
    "# We point OpenCV's Cascade classifier function to where our classifier (XML file format) is stored.\n",
    "face_cascade = cv2.CascadeClassifier('Haarcascades/haarcascade_frontalface_default.xml')\n",
    "eye_cascade = cv2.CascadeClassifier('Haarcascades/haarcascade_eye.xml')"
   ]
  },
  {
   "cell_type": "code",
   "execution_count": 9,
   "id": "b9a8528f",
   "metadata": {},
   "outputs": [],
   "source": [
    "# Defining a function that would do the detections.\n",
    "def detect(gray, frame):\n",
    "    faces = face_cascade.detectMultiScale(gray, 1.3, 5)\n",
    "    for (x, y, w, h) in faces:\n",
    "        cv2.rectangle(frame, (x, y), (x + w, y + h), (255, 0, 0), 2)   # Drawing a rectangle on the face.\n",
    "        # Now to detect the eyes, we need to crop the face. \n",
    "        roi_gray = gray[y:y+h, x:x+w]\n",
    "        roi_color = frame[y:y+h, x:x+w]\n",
    "        eyes = eye_cascade.detectMultiScale(roi_gray, 1.1, 3)  # Detecting eyes in the cropped area.\n",
    "        for (ex, ey, ew, eh) in eyes:\n",
    "            cv2.rectangle(roi_color, (ex, ey), (ex+ew, ey+eh), (0, 255, 0), 2)\n",
    "    return frame\n",
    "        "
   ]
  },
  {
   "cell_type": "code",
   "execution_count": 10,
   "id": "28d1ddbe",
   "metadata": {},
   "outputs": [],
   "source": [
    "# Doing face recognition with the webcam.\n",
    "video_capture = cv2.VideoCapture(0)   # 0 => used to use default webcam.\n",
    "while True:     # To get continuous frames.\n",
    "    _, frame = video_capture.read()   # frames are captured.\n",
    "    gray = cv2.cvtColor(frame, cv2.COLOR_BGR2GRAY)   # Converting above frames into Grayscale coz RGM frames take lot of time to process.\n",
    "    canvas = detect(gray, frame)   # Detect function is defined above.\n",
    "    cv2.imshow('Video', canvas)\n",
    "    if cv2.waitKey(1) & 0xFF == ord('q'):  # Unless user presses 'enter' or 'q'; it would not brake.\n",
    "        break\n",
    "video_capture.release()\n",
    "cv2.destroyAllWindows()\n",
    "    "
   ]
  },
  {
   "cell_type": "markdown",
   "id": "22a8cbca",
   "metadata": {},
   "source": [
    "## Pedestrian Detection "
   ]
  },
  {
   "cell_type": "code",
   "execution_count": 11,
   "id": "7808fd16",
   "metadata": {},
   "outputs": [],
   "source": [
    "import numpy as np\n",
    "import cv2\n",
    "\n",
    "# Creating body classifier\n",
    "body_classifier = cv2.CascadeClassifier('Haarcascades/haarcascade_fullbody.xml')\n",
    "\n",
    "# Initialize video capture for the video file.\n",
    "cap = cv2.VideoCapture('image_examples/walking.avi')\n",
    "\n",
    "# Loop once video is loaded.\n",
    "while cap.isOpened():\n",
    "    # Reading first frame.\n",
    "    ret, frame = cap.read()\n",
    "    #frame = cv2.resize(frame, None, fx = 0.5, fy = 0.5, interpolating = cv2.INTER_LINEAR)\n",
    "    \n",
    "    gray = cv2.cvtColor(frame, cv2.COLOR_BGR2GRAY)\n",
    "    \n",
    "    # Passing frame to body classifier.\n",
    "    bodies = body_classifier.detectMultiScale(gray, 1.2, 3)\n",
    "    \n",
    "    # Extracting bounding boxes for any bodies identified.\n",
    "    for (x, y, w, h) in bodies:\n",
    "        cv2.rectangle(frame, (x, y), (x + w, y + h), (0, 255, 255), 2)   # Drawing a rectangle on the face.\n",
    "        cv2.imshow('Pedestrians', frame)\n",
    "        \n",
    "    if cv2.waitKey(1) == 13:\n",
    "        break\n",
    "        \n",
    "cap.release()\n",
    "cv2.destroyAllWindows()\n",
    "        \n",
    "        \n",
    "    "
   ]
  },
  {
   "cell_type": "markdown",
   "id": "8ee5eaa7",
   "metadata": {},
   "source": [
    "## Car Detection"
   ]
  },
  {
   "cell_type": "code",
   "execution_count": 12,
   "id": "4a488e43",
   "metadata": {},
   "outputs": [],
   "source": [
    "import numpy as np\n",
    "import cv2\n",
    "import time\n",
    "\n",
    "# Creating body classifier\n",
    "car_classifier = cv2.CascadeClassifier('Haarcascades/haarcascade_car.xml')\n",
    "\n",
    "# Initialize video capture for the video file.\n",
    "cap = cv2.VideoCapture('image_examples/cars.avi')\n",
    "\n",
    "# Loop once video is loaded.\n",
    "while cap.isOpened():\n",
    "    time.sleep(0.05)  # To slow the video.\n",
    "    # Reading first frame.\n",
    "    ret, frame = cap.read()\n",
    "    #frame = cv2.resize(frame, None, fx = 0.5, fy = 0.5, interpolating = cv2.INTER_LINEAR)\n",
    "    \n",
    "    gray = cv2.cvtColor(frame, cv2.COLOR_BGR2GRAY)\n",
    "    \n",
    "    # Passing frame to body classifier.\n",
    "    cars = car_classifier.detectMultiScale(gray, 1.4, 2)\n",
    "    \n",
    "    # Extracting bounding boxes for any bodies identified.\n",
    "    for (x, y, w, h) in cars:\n",
    "        cv2.rectangle(frame, (x, y), (x + w, y + h), (0, 255, 255), 2)   # Drawing a rectangle on the face.\n",
    "        cv2.imshow('Cars', frame)\n",
    "        \n",
    "    if cv2.waitKey(1) == 13: # 13 is the enter key.\n",
    "        break\n",
    "         \n",
    "cap.release()\n",
    "cv2.destroyAllWindows()\n",
    "        "
   ]
  },
  {
   "cell_type": "markdown",
   "id": "00dfa283",
   "metadata": {},
   "source": [
    "## Capture and mouse draw rectangle from webcam and sketch process it in a live feed."
   ]
  },
  {
   "cell_type": "code",
   "execution_count": 13,
   "id": "924cd038",
   "metadata": {},
   "outputs": [],
   "source": [
    "import numpy as np\n",
    "import cv2\n",
    "import matplotlib.pyplot as plt\n",
    "\n",
    "\n",
    "def sketch_transform(image):\n",
    "    image_grayscale = cv2.cvtColor(image, cv2.COLOR_BGR2GRAY)  # Converting to grayscale image.\n",
    "    image_grayscale_blurred = cv2.GaussianBlur(image_grayscale, (7, 7), 0)\n",
    "    image_canny = cv2.Canny(image_grayscale_blurred, 10, 80)  # Canny function finds edges in the image.\n",
    "    _, mask = image_canny_imverted = cv2.threshold(image_canny, 30, 255, cv2.THRESH_BINARY_INV)\n",
    "    return mask\n",
    "\n",
    "\n",
    "cam_capture = cv2.VideoCapture(0)\n",
    "cv2.destroyAllWindows()\n",
    "\n",
    "while True:\n",
    "    _, im0 = cam_capture.read()\n",
    "    showCrosshair = False\n",
    "    fromCenter = False\n",
    "    r = cv2.selectROI(\"Image\", im0, fromCenter, showCrosshair)\n",
    "    break\n",
    "    \n",
    "while True:\n",
    "    _, image_frame = cam_capture.read()\n",
    "    \n",
    "    rect_img = image_frame[int(r[1]): int(r[1] + r[3]), int(r[0]): (r[0] + r[2])]\n",
    "    \n",
    "    sketcher_rect = rect_img\n",
    "    sketcher_rect = sketch_transform(sketcher_rect)\n",
    "    \n",
    "    \n",
    "    # Conversion for 3 channels to put back on original image (streaming)\n",
    "    sketcher_rect_rgb = cv2.cvtColor(sketcher_rect, cv2.COLOR_GRAY2RGB)\n",
    "    \n",
    "    # Replacing the sketched image on region of interest.\n",
    "    image_frame[int(r[1]): int(r[1] + r[3]), int(r[0]): (r[0] + r[2])] = sketcher_rect_rgb\n",
    "    \n",
    "    cv2.imshow(\"Sketcher ROI\", image_frame)\n",
    "    \n",
    "    if cv2.waitKey(1) & 0xFF == ord('q'):   # 1 => enter key.\n",
    "        break\n",
    "        \n",
    "cam_capture.release()\n",
    "cv2.destroyAllWindows()"
   ]
  },
  {
   "cell_type": "code",
   "execution_count": null,
   "id": "8c3e0427",
   "metadata": {},
   "outputs": [],
   "source": []
  }
 ],
 "metadata": {
  "kernelspec": {
   "display_name": "Python 3",
   "language": "python",
   "name": "python3"
  },
  "language_info": {
   "codemirror_mode": {
    "name": "ipython",
    "version": 3
   },
   "file_extension": ".py",
   "mimetype": "text/x-python",
   "name": "python",
   "nbconvert_exporter": "python",
   "pygments_lexer": "ipython3",
   "version": "3.9.5"
  }
 },
 "nbformat": 4,
 "nbformat_minor": 5
}
