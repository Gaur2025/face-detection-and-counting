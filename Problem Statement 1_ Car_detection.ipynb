{
 "cells": [
  {
   "cell_type": "markdown",
   "id": "02d40820",
   "metadata": {},
   "source": [
    "## Here I have used haarcascades_car.xml to create a classfier for detection of car in a video.\n"
   ]
  },
  {
   "cell_type": "code",
   "execution_count": 1,
   "id": "30d77b29",
   "metadata": {},
   "outputs": [],
   "source": [
    "import numpy as np\n",
    "import cv2\n",
    "import time\n",
    "\n",
    "# Creating body classifier\n",
    "car_classifier = cv2.CascadeClassifier('Haarcascades/haarcascade_car.xml')\n",
    "\n",
    "# Initialize video capture for the video file.\n",
    "# Add any video conatinaing cars and save it into /image_examples directory. Then use next line of code for car detection.\n",
    "cap = cv2.VideoCapture('image_examples/cars.avi')\n",
    "\n",
    "# Loop once video is loaded.\n",
    "while cap.isOpened():\n",
    "    time.sleep(0.05)  # To slow the video.\n",
    "    # Reading first frame.\n",
    "    ret, frame = cap.read()\n",
    "    #frame = cv2.resize(frame, None, fx = 0.5, fy = 0.5, interpolating = cv2.INTER_LINEAR)\n",
    "    \n",
    "    gray = cv2.cvtColor(frame, cv2.COLOR_BGR2GRAY)\n",
    "    \n",
    "    # Passing frame to body classifier.\n",
    "    cars = car_classifier.detectMultiScale(gray, 1.4, 2)\n",
    "    \n",
    "    # Extracting bounding boxes for any bodies identified.\n",
    "    for (x, y, w, h) in cars:\n",
    "        cv2.rectangle(frame, (x, y), (x + w, y + h), (0, 255, 255), 2)   # Drawing a rectangle on the face.\n",
    "        cv2.imshow('Cars', frame)\n",
    "        \n",
    "    if cv2.waitKey(1) == 13: # 13 is the enter key.\n",
    "        break\n",
    "         \n",
    "cap.release()\n",
    "cv2.destroyAllWindows()\n"
   ]
  },
  {
   "cell_type": "code",
   "execution_count": null,
   "id": "eae864c8",
   "metadata": {},
   "outputs": [],
   "source": []
  }
 ],
 "metadata": {
  "kernelspec": {
   "display_name": "Python 3",
   "language": "python",
   "name": "python3"
  },
  "language_info": {
   "codemirror_mode": {
    "name": "ipython",
    "version": 3
   },
   "file_extension": ".py",
   "mimetype": "text/x-python",
   "name": "python",
   "nbconvert_exporter": "python",
   "pygments_lexer": "ipython3",
   "version": "3.9.5"
  }
 },
 "nbformat": 4,
 "nbformat_minor": 5
}
